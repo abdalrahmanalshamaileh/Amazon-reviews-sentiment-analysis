{
 "cells": [
  {
   "cell_type": "code",
   "execution_count": 14,
   "id": "d4fb4df8",
   "metadata": {},
   "outputs": [
    {
     "name": "stderr",
     "output_type": "stream",
     "text": [
      "D:\\Anaconda\\Lib\\site-packages\\transformers\\modeling_utils.py:479: FutureWarning: You are using `torch.load` with `weights_only=False` (the current default value), which uses the default pickle module implicitly. It is possible to construct malicious pickle data which will execute arbitrary code during unpickling (See https://github.com/pytorch/pytorch/blob/main/SECURITY.md#untrusted-models for more details). In a future release, the default value for `weights_only` will be flipped to `True`. This limits the functions that could be executed during unpickling. Arbitrary objects will no longer be allowed to be loaded via this mode unless they are explicitly allowlisted by the user via `torch.serialization.add_safe_globals`. We recommend you start setting `weights_only=True` for any use case where you don't have full control of the loaded file. Please open an issue on GitHub for any issues related to this experimental feature.\n",
      "  return torch.load(checkpoint_file, map_location=map_location)\n"
     ]
    },
    {
     "name": "stdout",
     "output_type": "stream",
     "text": [
      "\n",
      "Training with learning rate: 1e-05 and batch size: 8\n",
      "Epoch 1/5\n"
     ]
    },
    {
     "name": "stderr",
     "output_type": "stream",
     "text": [
      "D:\\Anaconda\\Lib\\site-packages\\transformers\\optimization.py:411: FutureWarning: This implementation of AdamW is deprecated and will be removed in a future version. Use the PyTorch implementation torch.optim.AdamW instead, or set `no_deprecation_warning=True` to disable this warning\n",
      "  warnings.warn(\n"
     ]
    },
    {
     "name": "stdout",
     "output_type": "stream",
     "text": [
      "Training loss: 0.3866\n"
     ]
    },
    {
     "name": "stderr",
     "output_type": "stream",
     "text": [
      "D:\\Anaconda\\Lib\\site-packages\\sklearn\\metrics\\_classification.py:1469: UndefinedMetricWarning: Precision is ill-defined and being set to 0.0 in labels with no predicted samples. Use `zero_division` parameter to control this behavior.\n",
      "  _warn_prf(average, modifier, msg_start, len(result))\n"
     ]
    },
    {
     "name": "stdout",
     "output_type": "stream",
     "text": [
      "Validation Metrics:\n",
      "Accuracy: 0.8800\n",
      "F1 Score: 0.8466\n",
      "Precision: 0.8176\n",
      "Epoch 2/5\n",
      "Training loss: 0.2770\n",
      "Validation Metrics:\n",
      "Accuracy: 0.8860\n",
      "F1 Score: 0.8808\n",
      "Precision: 0.8792\n",
      "Epoch 3/5\n",
      "Training loss: 0.1874\n",
      "Validation Metrics:\n",
      "Accuracy: 0.8930\n",
      "F1 Score: 0.8859\n",
      "Precision: 0.8816\n",
      "Epoch 4/5\n",
      "Training loss: 0.1236\n",
      "Validation Metrics:\n",
      "Accuracy: 0.8860\n",
      "F1 Score: 0.8800\n",
      "Precision: 0.8759\n",
      "Epoch 5/5\n",
      "Training loss: 0.0763\n",
      "Validation Metrics:\n",
      "Accuracy: 0.8950\n",
      "F1 Score: 0.8811\n",
      "Precision: 0.8811\n",
      "\n",
      "Test Metrics (final evaluation):\n",
      "Accuracy: 0.8800\n",
      "F1 Score: 0.8695\n",
      "Precision: 0.8640\n",
      "\n",
      "Training with learning rate: 1e-05 and batch size: 32\n",
      "Epoch 1/5\n"
     ]
    },
    {
     "name": "stderr",
     "output_type": "stream",
     "text": [
      "D:\\Anaconda\\Lib\\site-packages\\transformers\\optimization.py:411: FutureWarning: This implementation of AdamW is deprecated and will be removed in a future version. Use the PyTorch implementation torch.optim.AdamW instead, or set `no_deprecation_warning=True` to disable this warning\n",
      "  warnings.warn(\n"
     ]
    },
    {
     "name": "stdout",
     "output_type": "stream",
     "text": [
      "Training loss: 0.0378\n",
      "Validation Metrics:\n",
      "Accuracy: 0.8860\n",
      "F1 Score: 0.8829\n",
      "Precision: 0.8807\n",
      "Epoch 2/5\n",
      "Training loss: 0.0133\n",
      "Validation Metrics:\n",
      "Accuracy: 0.8850\n",
      "F1 Score: 0.8828\n",
      "Precision: 0.8808\n",
      "Early stopping triggered. No improvement in validation accuracy.\n",
      "\n",
      "Test Metrics (final evaluation):\n",
      "Accuracy: 0.8720\n",
      "F1 Score: 0.8700\n",
      "Precision: 0.8683\n",
      "\n",
      "Training with learning rate: 1e-05 and batch size: 64\n",
      "Epoch 1/5\n"
     ]
    },
    {
     "name": "stderr",
     "output_type": "stream",
     "text": [
      "D:\\Anaconda\\Lib\\site-packages\\transformers\\optimization.py:411: FutureWarning: This implementation of AdamW is deprecated and will be removed in a future version. Use the PyTorch implementation torch.optim.AdamW instead, or set `no_deprecation_warning=True` to disable this warning\n",
      "  warnings.warn(\n"
     ]
    },
    {
     "name": "stdout",
     "output_type": "stream",
     "text": [
      "Training loss: 0.0133\n",
      "Validation Metrics:\n",
      "Accuracy: 0.8790\n",
      "F1 Score: 0.8797\n",
      "Precision: 0.8808\n",
      "Early stopping triggered. No improvement in validation accuracy.\n",
      "\n",
      "Test Metrics (final evaluation):\n",
      "Accuracy: 0.8730\n",
      "F1 Score: 0.8751\n",
      "Precision: 0.8782\n",
      "\n",
      "Training with learning rate: 0.0001 and batch size: 8\n",
      "Epoch 1/5\n"
     ]
    },
    {
     "name": "stderr",
     "output_type": "stream",
     "text": [
      "D:\\Anaconda\\Lib\\site-packages\\transformers\\optimization.py:411: FutureWarning: This implementation of AdamW is deprecated and will be removed in a future version. Use the PyTorch implementation torch.optim.AdamW instead, or set `no_deprecation_warning=True` to disable this warning\n",
      "  warnings.warn(\n"
     ]
    },
    {
     "name": "stdout",
     "output_type": "stream",
     "text": [
      "Training loss: 0.7205\n"
     ]
    },
    {
     "name": "stderr",
     "output_type": "stream",
     "text": [
      "D:\\Anaconda\\Lib\\site-packages\\sklearn\\metrics\\_classification.py:1469: UndefinedMetricWarning: Precision is ill-defined and being set to 0.0 in labels with no predicted samples. Use `zero_division` parameter to control this behavior.\n",
      "  _warn_prf(average, modifier, msg_start, len(result))\n"
     ]
    },
    {
     "name": "stdout",
     "output_type": "stream",
     "text": [
      "Validation Metrics:\n",
      "Accuracy: 0.7770\n",
      "F1 Score: 0.6795\n",
      "Precision: 0.6037\n",
      "Early stopping triggered. No improvement in validation accuracy.\n"
     ]
    },
    {
     "name": "stderr",
     "output_type": "stream",
     "text": [
      "D:\\Anaconda\\Lib\\site-packages\\sklearn\\metrics\\_classification.py:1469: UndefinedMetricWarning: Precision is ill-defined and being set to 0.0 in labels with no predicted samples. Use `zero_division` parameter to control this behavior.\n",
      "  _warn_prf(average, modifier, msg_start, len(result))\n",
      "D:\\Anaconda\\Lib\\site-packages\\transformers\\optimization.py:411: FutureWarning: This implementation of AdamW is deprecated and will be removed in a future version. Use the PyTorch implementation torch.optim.AdamW instead, or set `no_deprecation_warning=True` to disable this warning\n",
      "  warnings.warn(\n"
     ]
    },
    {
     "name": "stdout",
     "output_type": "stream",
     "text": [
      "\n",
      "Test Metrics (final evaluation):\n",
      "Accuracy: 0.7640\n",
      "F1 Score: 0.6618\n",
      "Precision: 0.5837\n",
      "\n",
      "Training with learning rate: 0.0001 and batch size: 32\n",
      "Epoch 1/5\n",
      "Training loss: 0.7002\n"
     ]
    },
    {
     "name": "stderr",
     "output_type": "stream",
     "text": [
      "D:\\Anaconda\\Lib\\site-packages\\sklearn\\metrics\\_classification.py:1469: UndefinedMetricWarning: Precision is ill-defined and being set to 0.0 in labels with no predicted samples. Use `zero_division` parameter to control this behavior.\n",
      "  _warn_prf(average, modifier, msg_start, len(result))\n"
     ]
    },
    {
     "name": "stdout",
     "output_type": "stream",
     "text": [
      "Validation Metrics:\n",
      "Accuracy: 0.7770\n",
      "F1 Score: 0.6795\n",
      "Precision: 0.6037\n",
      "Early stopping triggered. No improvement in validation accuracy.\n"
     ]
    },
    {
     "name": "stderr",
     "output_type": "stream",
     "text": [
      "D:\\Anaconda\\Lib\\site-packages\\sklearn\\metrics\\_classification.py:1469: UndefinedMetricWarning: Precision is ill-defined and being set to 0.0 in labels with no predicted samples. Use `zero_division` parameter to control this behavior.\n",
      "  _warn_prf(average, modifier, msg_start, len(result))\n",
      "D:\\Anaconda\\Lib\\site-packages\\transformers\\optimization.py:411: FutureWarning: This implementation of AdamW is deprecated and will be removed in a future version. Use the PyTorch implementation torch.optim.AdamW instead, or set `no_deprecation_warning=True` to disable this warning\n",
      "  warnings.warn(\n"
     ]
    },
    {
     "name": "stdout",
     "output_type": "stream",
     "text": [
      "\n",
      "Test Metrics (final evaluation):\n",
      "Accuracy: 0.7640\n",
      "F1 Score: 0.6618\n",
      "Precision: 0.5837\n",
      "\n",
      "Training with learning rate: 0.0001 and batch size: 64\n",
      "Epoch 1/5\n",
      "Training loss: 0.7040\n"
     ]
    },
    {
     "name": "stderr",
     "output_type": "stream",
     "text": [
      "D:\\Anaconda\\Lib\\site-packages\\sklearn\\metrics\\_classification.py:1469: UndefinedMetricWarning: Precision is ill-defined and being set to 0.0 in labels with no predicted samples. Use `zero_division` parameter to control this behavior.\n",
      "  _warn_prf(average, modifier, msg_start, len(result))\n"
     ]
    },
    {
     "name": "stdout",
     "output_type": "stream",
     "text": [
      "Validation Metrics:\n",
      "Accuracy: 0.7770\n",
      "F1 Score: 0.6795\n",
      "Precision: 0.6037\n",
      "Early stopping triggered. No improvement in validation accuracy.\n"
     ]
    },
    {
     "name": "stderr",
     "output_type": "stream",
     "text": [
      "D:\\Anaconda\\Lib\\site-packages\\sklearn\\metrics\\_classification.py:1469: UndefinedMetricWarning: Precision is ill-defined and being set to 0.0 in labels with no predicted samples. Use `zero_division` parameter to control this behavior.\n",
      "  _warn_prf(average, modifier, msg_start, len(result))\n",
      "D:\\Anaconda\\Lib\\site-packages\\transformers\\optimization.py:411: FutureWarning: This implementation of AdamW is deprecated and will be removed in a future version. Use the PyTorch implementation torch.optim.AdamW instead, or set `no_deprecation_warning=True` to disable this warning\n",
      "  warnings.warn(\n"
     ]
    },
    {
     "name": "stdout",
     "output_type": "stream",
     "text": [
      "\n",
      "Test Metrics (final evaluation):\n",
      "Accuracy: 0.7640\n",
      "F1 Score: 0.6618\n",
      "Precision: 0.5837\n",
      "\n",
      "Training with learning rate: 0.001 and batch size: 8\n",
      "Epoch 1/5\n",
      "Training loss: 0.7396\n"
     ]
    },
    {
     "name": "stderr",
     "output_type": "stream",
     "text": [
      "D:\\Anaconda\\Lib\\site-packages\\sklearn\\metrics\\_classification.py:1469: UndefinedMetricWarning: Precision is ill-defined and being set to 0.0 in labels with no predicted samples. Use `zero_division` parameter to control this behavior.\n",
      "  _warn_prf(average, modifier, msg_start, len(result))\n"
     ]
    },
    {
     "name": "stdout",
     "output_type": "stream",
     "text": [
      "Validation Metrics:\n",
      "Accuracy: 0.7770\n",
      "F1 Score: 0.6795\n",
      "Precision: 0.6037\n",
      "Early stopping triggered. No improvement in validation accuracy.\n"
     ]
    },
    {
     "name": "stderr",
     "output_type": "stream",
     "text": [
      "D:\\Anaconda\\Lib\\site-packages\\sklearn\\metrics\\_classification.py:1469: UndefinedMetricWarning: Precision is ill-defined and being set to 0.0 in labels with no predicted samples. Use `zero_division` parameter to control this behavior.\n",
      "  _warn_prf(average, modifier, msg_start, len(result))\n",
      "D:\\Anaconda\\Lib\\site-packages\\transformers\\optimization.py:411: FutureWarning: This implementation of AdamW is deprecated and will be removed in a future version. Use the PyTorch implementation torch.optim.AdamW instead, or set `no_deprecation_warning=True` to disable this warning\n",
      "  warnings.warn(\n"
     ]
    },
    {
     "name": "stdout",
     "output_type": "stream",
     "text": [
      "\n",
      "Test Metrics (final evaluation):\n",
      "Accuracy: 0.7640\n",
      "F1 Score: 0.6618\n",
      "Precision: 0.5837\n",
      "\n",
      "Training with learning rate: 0.001 and batch size: 32\n",
      "Epoch 1/5\n",
      "Training loss: 0.7023\n"
     ]
    },
    {
     "name": "stderr",
     "output_type": "stream",
     "text": [
      "D:\\Anaconda\\Lib\\site-packages\\sklearn\\metrics\\_classification.py:1469: UndefinedMetricWarning: Precision is ill-defined and being set to 0.0 in labels with no predicted samples. Use `zero_division` parameter to control this behavior.\n",
      "  _warn_prf(average, modifier, msg_start, len(result))\n"
     ]
    },
    {
     "name": "stdout",
     "output_type": "stream",
     "text": [
      "Validation Metrics:\n",
      "Accuracy: 0.7770\n",
      "F1 Score: 0.6795\n",
      "Precision: 0.6037\n",
      "Early stopping triggered. No improvement in validation accuracy.\n"
     ]
    },
    {
     "name": "stderr",
     "output_type": "stream",
     "text": [
      "D:\\Anaconda\\Lib\\site-packages\\sklearn\\metrics\\_classification.py:1469: UndefinedMetricWarning: Precision is ill-defined and being set to 0.0 in labels with no predicted samples. Use `zero_division` parameter to control this behavior.\n",
      "  _warn_prf(average, modifier, msg_start, len(result))\n",
      "D:\\Anaconda\\Lib\\site-packages\\transformers\\optimization.py:411: FutureWarning: This implementation of AdamW is deprecated and will be removed in a future version. Use the PyTorch implementation torch.optim.AdamW instead, or set `no_deprecation_warning=True` to disable this warning\n",
      "  warnings.warn(\n"
     ]
    },
    {
     "name": "stdout",
     "output_type": "stream",
     "text": [
      "\n",
      "Test Metrics (final evaluation):\n",
      "Accuracy: 0.7640\n",
      "F1 Score: 0.6618\n",
      "Precision: 0.5837\n",
      "\n",
      "Training with learning rate: 0.001 and batch size: 64\n",
      "Epoch 1/5\n",
      "Training loss: 0.6971\n"
     ]
    },
    {
     "name": "stderr",
     "output_type": "stream",
     "text": [
      "D:\\Anaconda\\Lib\\site-packages\\sklearn\\metrics\\_classification.py:1469: UndefinedMetricWarning: Precision is ill-defined and being set to 0.0 in labels with no predicted samples. Use `zero_division` parameter to control this behavior.\n",
      "  _warn_prf(average, modifier, msg_start, len(result))\n"
     ]
    },
    {
     "name": "stdout",
     "output_type": "stream",
     "text": [
      "Validation Metrics:\n",
      "Accuracy: 0.7770\n",
      "F1 Score: 0.6795\n",
      "Precision: 0.6037\n",
      "Early stopping triggered. No improvement in validation accuracy.\n"
     ]
    },
    {
     "name": "stderr",
     "output_type": "stream",
     "text": [
      "D:\\Anaconda\\Lib\\site-packages\\sklearn\\metrics\\_classification.py:1469: UndefinedMetricWarning: Precision is ill-defined and being set to 0.0 in labels with no predicted samples. Use `zero_division` parameter to control this behavior.\n",
      "  _warn_prf(average, modifier, msg_start, len(result))\n"
     ]
    },
    {
     "name": "stdout",
     "output_type": "stream",
     "text": [
      "\n",
      "Test Metrics (final evaluation):\n",
      "Accuracy: 0.7640\n",
      "F1 Score: 0.6618\n",
      "Precision: 0.5837\n",
      "\n",
      "Best Configuration based on Validation Accuracy: {'learning_rate': 1e-05, 'batch_size': 8} with Validation Accuracy: 0.8950\n"
     ]
    },
    {
     "data": {
      "text/plain": [
       "('fine_tuned_roberta\\\\tokenizer_config.json',\n",
       " 'fine_tuned_roberta\\\\special_tokens_map.json',\n",
       " 'fine_tuned_roberta\\\\vocab.json',\n",
       " 'fine_tuned_roberta\\\\merges.txt',\n",
       " 'fine_tuned_roberta\\\\added_tokens.json',\n",
       " 'fine_tuned_roberta\\\\tokenizer.json')"
      ]
     },
     "execution_count": 14,
     "metadata": {},
     "output_type": "execute_result"
    }
   ],
   "source": [
    "import random\n",
    "import torch\n",
    "from torch.utils.data import DataLoader, Dataset\n",
    "from transformers import AutoTokenizer, AutoModelForSequenceClassification, AdamW\n",
    "from sklearn.model_selection import train_test_split\n",
    "from sklearn.metrics import classification_report, accuracy_score, f1_score, precision_score\n",
    "import pandas as pd\n",
    "\n",
    "# Define a custom dataset class\n",
    "class SentimentDataset(Dataset):\n",
    "    def __init__(self, texts, labels=None):\n",
    "        self.texts = texts\n",
    "        self.labels = labels\n",
    "\n",
    "    def __len__(self):\n",
    "        return len(self.texts)\n",
    "\n",
    "    def __getitem__(self, idx):\n",
    "        item = {'text': self.texts[idx]}\n",
    "        if self.labels is not None:\n",
    "            item['label'] = self.labels[idx]\n",
    "        return item\n",
    "\n",
    "# Tokenization function\n",
    "def tokenize_function(tokenizer, batch):\n",
    "    inputs = tokenizer([item['text'] for item in batch], truncation=True, padding=True, max_length=128, return_tensors=\"pt\")\n",
    "    if 'label' in batch[0]:\n",
    "        inputs['labels'] = torch.tensor([item['label'] for item in batch])\n",
    "    return inputs\n",
    "\n",
    "# Training function\n",
    "def train_model(model, dataloader, optimizer, device):\n",
    "    model.train()\n",
    "    total_loss = 0\n",
    "    for batch in dataloader:\n",
    "        optimizer.zero_grad()\n",
    "        inputs = {key: val.to(device) for key, val in batch.items() if key != 'labels'}\n",
    "        labels = batch['labels'].to(device)\n",
    "        outputs = model(**inputs, labels=labels)\n",
    "        loss = outputs.loss\n",
    "        loss.backward()\n",
    "        optimizer.step()\n",
    "        total_loss += loss.item()\n",
    "    return total_loss / len(dataloader)\n",
    "\n",
    "# Evaluation function\n",
    "def evaluate_model(model, dataloader, device):\n",
    "    model.eval()\n",
    "    all_preds = []\n",
    "    all_labels = []\n",
    "    with torch.no_grad():\n",
    "        for batch in dataloader:\n",
    "            inputs = {key: val.to(device) for key, val in batch.items() if key != 'labels'}\n",
    "            labels = batch['labels'].to(device)\n",
    "            outputs = model(**inputs)\n",
    "            logits = outputs.logits\n",
    "            predictions = torch.argmax(logits, dim=-1)\n",
    "            all_preds.extend(predictions.cpu().numpy())\n",
    "            all_labels.extend(labels.cpu().numpy())\n",
    "    \n",
    "    accuracy = accuracy_score(all_labels, all_preds)\n",
    "    f1 = f1_score(all_labels, all_preds, average='weighted')\n",
    "    precision = precision_score(all_labels, all_preds, average='weighted')\n",
    "    return accuracy, f1, precision\n",
    "\n",
    "# Hyperparameter tuning\n",
    "LEARNING_RATES = [1e-5, 1e-4, 1e-3]\n",
    "BATCH_SIZES = [8, 32, 64]\n",
    "MODEL_NAME = \"cardiffnlp/twitter-roberta-base-sentiment\"\n",
    "EPOCHS = 5  # Set initial epochs; you can adjust based on performance\n",
    "PATIENCE = 2  # Early stopping patience\n",
    "\n",
    "# Load data\n",
    "DATA_PATH = \"C:\\\\Users\\\\Shamailh_M77\\\\Downloads\\\\AmazonDataset\\\\Reviews.csv\"\n",
    "df = pd.read_csv(DATA_PATH).head(5000)  # Limit data for faster analysis\n",
    "texts = df['Text'].tolist()\n",
    "labels = df['Score'].map({\n",
    "    1: 0,  # Negative\n",
    "    2: 0,  # Negative\n",
    "    3: 1,  # Neutral\n",
    "    4: 2,  # Positive\n",
    "    5: 2   # Positive\n",
    "}).tolist()\n",
    "\n",
    "# Split data: 60% train, 20% validation, 20% test\n",
    "train_texts, temp_texts, train_labels, temp_labels = train_test_split(texts, labels, test_size=0.4, random_state=42)\n",
    "val_texts, test_texts, val_labels, test_labels = train_test_split(temp_texts, temp_labels, test_size=0.5, random_state=42)\n",
    "\n",
    "# Tokenizer and model\n",
    "device = torch.device(\"cuda\" if torch.cuda.is_available() else \"cpu\")\n",
    "tokenizer = AutoTokenizer.from_pretrained(MODEL_NAME)\n",
    "model = AutoModelForSequenceClassification.from_pretrained(MODEL_NAME, num_labels=3).to(device)\n",
    "\n",
    "# Dataset and DataLoader\n",
    "train_dataset = SentimentDataset(train_texts, train_labels)\n",
    "val_dataset = SentimentDataset(val_texts, val_labels)\n",
    "test_dataset = SentimentDataset(test_texts, test_labels)\n",
    "\n",
    "# Results storage\n",
    "best_config = None\n",
    "best_performance = 0\n",
    "patience_counter = 0\n",
    "best_val_loss = float('inf')\n",
    "\n",
    "# Hyperparameter tuning with early stopping\n",
    "for lr in LEARNING_RATES:\n",
    "    for batch_size in BATCH_SIZES:\n",
    "        print(f\"\\nTraining with learning rate: {lr} and batch size: {batch_size}\")\n",
    "        \n",
    "        # Prepare dataloaders\n",
    "        train_dataloader = DataLoader(train_dataset, batch_size=batch_size, shuffle=True, collate_fn=lambda x: tokenize_function(tokenizer, x))\n",
    "        val_dataloader = DataLoader(val_dataset, batch_size=batch_size, shuffle=False, collate_fn=lambda x: tokenize_function(tokenizer, x))\n",
    "        test_dataloader = DataLoader(test_dataset, batch_size=batch_size, shuffle=False, collate_fn=lambda x: tokenize_function(tokenizer, x))\n",
    "        \n",
    "        # Optimizer\n",
    "        optimizer = AdamW(model.parameters(), lr=lr)\n",
    "        \n",
    "        # Early stopping and training loop\n",
    "        for epoch in range(EPOCHS):\n",
    "            print(f\"Epoch {epoch + 1}/{EPOCHS}\")\n",
    "            \n",
    "            # Train the model\n",
    "            train_loss = train_model(model, train_dataloader, optimizer, device)\n",
    "            print(f\"Training loss: {train_loss:.4f}\")\n",
    "            \n",
    "            # Evaluate the model on validation set\n",
    "            val_accuracy, val_f1, val_precision = evaluate_model(model, val_dataloader, device)\n",
    "            print(f\"Validation Metrics:\\nAccuracy: {val_accuracy:.4f}\\nF1 Score: {val_f1:.4f}\\nPrecision: {val_precision:.4f}\")\n",
    "            \n",
    "            # Early stopping check\n",
    "            if val_accuracy > best_performance:\n",
    "                best_performance = val_accuracy\n",
    "                best_config = {'learning_rate': lr, 'batch_size': batch_size}\n",
    "                patience_counter = 0  # Reset patience if improvement is seen\n",
    "            else:\n",
    "                patience_counter += 1\n",
    "                \n",
    "            if patience_counter >= PATIENCE:\n",
    "                print(\"Early stopping triggered. No improvement in validation accuracy.\")\n",
    "                break\n",
    "        \n",
    "        # Final evaluation on the test set after training\n",
    "        test_accuracy, test_f1, test_precision = evaluate_model(model, test_dataloader, device)\n",
    "        print(f\"\\nTest Metrics (final evaluation):\\nAccuracy: {test_accuracy:.4f}\\nF1 Score: {test_f1:.4f}\\nPrecision: {test_precision:.4f}\")\n",
    "\n",
    "print(f\"\\nBest Configuration based on Validation Accuracy: {best_config} with Validation Accuracy: {best_performance:.4f}\")\n",
    "\n",
    "# Save the fine-tuned model\n",
    "model.save_pretrained(\"fine_tuned_roberta\")\n",
    "tokenizer.save_pretrained(\"fine_tuned_roberta\")"
   ]
  },
  {
   "cell_type": "code",
   "execution_count": 15,
   "id": "30141d2f",
   "metadata": {},
   "outputs": [
    {
     "data": {
      "image/png": "[encoded data removed]",
      "text/plain": [
       "<Figure size 800x600 with 1 Axes>"
      ]
     },
     "metadata": {},
     "output_type": "display_data"
    }
   ],
   "source": [
    "import matplotlib.pyplot as plt\n",
    "import seaborn as sns\n",
    "\n",
    "# Plot distribution of star ratings\n",
    "rating_counts = df['Score'].value_counts().sort_index()\n",
    "\n",
    "plt.figure(figsize=(8, 6))\n",
    "sns.barplot(x=rating_counts.index, y=rating_counts.values, palette='viridis')\n",
    "plt.title(\"Distribution of Star Ratings\")\n",
    "plt.xlabel(\"Star Rating\")\n",
    "plt.ylabel(\"Count of Reviews\")\n",
    "plt.show()\n"
   ]
  },
  {
   "cell_type": "code",
   "execution_count": 18,
   "id": "7b78095e",
   "metadata": {},
   "outputs": [],
   "source": [
    "# import matplotlib.pyplot as plt\n",
    "\n",
    "# # get inside train loop\n",
    "# train_losses = []\n",
    "# for epoch in range(10):  \n",
    "#     train_loss = train_model(model, train_dataloader, optimizer, device)\n",
    "#     train_losses.append(train_loss)\n",
    "\n",
    "# # Ploting the loss chart\n",
    "# plt.plot(range(1, len(train_losses) + 1), train_losses)\n",
    "# plt.xlabel('Epoch')\n",
    "# plt.ylabel('Training Loss')\n",
    "# plt.title('Training Loss Curve')\n",
    "# plt.show()\n"
   ]
  },
  {
   "cell_type": "code",
   "execution_count": 26,
   "id": "15fe6e39",
   "metadata": {},
   "outputs": [
    {
     "name": "stdout",
     "output_type": "stream",
     "text": [
      "Label Distribution: Counter({5: 1268, 4: 307, 1: 172, 3: 146, 2: 107})\n"
     ]
    },
    {
     "data": {
      "image/png": "[encoded data removed]",
      "text/plain": [
       "<Figure size 640x480 with 1 Axes>"
      ]
     },
     "metadata": {},
     "output_type": "display_data"
    }
   ],
   "source": [
    "from collections import Counter\n",
    "import pandas as pd\n",
    "import matplotlib.pyplot as plt\n",
    "\n",
    "# Assuming your dataset is in a CSV file\n",
    "df = pd.read_csv(DATA_PATH)  # Replace with your actual dataset file\n",
    "\n",
    "# Sample 5000 rows from the dataset\n",
    "df_sampled = df.sample(n=2000, random_state=42)  # Set random_state for reproducibility\n",
    "\n",
    "# Extract labels (replace 'Score' with the actual column name for sentiment)\n",
    "labels = df_sampled['Score']\n",
    "\n",
    "# Count occurrences of each label\n",
    "label_counts = Counter(labels)\n",
    "print(\"Label Distribution:\", label_counts)\n",
    "\n",
    "# Visualize the label distribution\n",
    "plt.bar(label_counts.keys(), label_counts.values())\n",
    "plt.xlabel(\"Sentiment Class\")\n",
    "plt.ylabel(\"Count\")\n",
    "plt.title(\"Label Distribution for Sampled Data \")\n",
    "plt.show()\n",
    "\n"
   ]
  },
  {
   "cell_type": "code",
   "execution_count": null,
   "id": "485e8ded",
   "metadata": {},
   "outputs": [],
   "source": []
  }
 ],
 "metadata": {
  "kernelspec": {
   "display_name": "Python 3 (ipykernel)",
   "language": "python",
   "name": "python3"
  },
  "language_info": {
   "codemirror_mode": {
    "name": "ipython",
    "version": 3
   },
   "file_extension": ".py",
   "mimetype": "text/x-python",
   "name": "python",
   "nbconvert_exporter": "python",
   "pygments_lexer": "ipython3",
   "version": "3.11.5"
  }
 },
 "nbformat": 4,
 "nbformat_minor": 5
}
