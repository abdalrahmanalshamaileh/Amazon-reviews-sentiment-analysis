{
 "cells": [
  {
   "cell_type": "code",
   "execution_count": 2,
   "id": "0a9e43b1",
   "metadata": {},
   "outputs": [
    {
     "name": "stdout",
     "output_type": "stream",
     "text": [
      "Training Metrics:\n",
      "Accuracy: 0.7927\n",
      "F1 Score: 0.7606\n",
      "Precision: 0.7434\n",
      "\n",
      "Validation Metrics:\n",
      "Accuracy: 0.8070\n",
      "F1 Score: 0.7767\n",
      "Precision: 0.7641\n",
      "\n",
      "Test Metrics:\n",
      "Accuracy: 0.7950\n",
      "F1 Score: 0.7609\n",
      "Precision: 0.7443\n",
      "\n"
     ]
    }
   ],
   "source": [
    "import pandas as pd\n",
    "from nltk.sentiment import SentimentIntensityAnalyzer\n",
    "from sklearn.model_selection import train_test_split\n",
    "from sklearn.metrics import classification_report, accuracy_score, f1_score, precision_score\n",
    "\n",
    "# Load data\n",
    "DATA_PATH = \"C:\\\\Users\\\\Shamailh_M77\\\\Downloads\\\\AmazonDataset\\\\Reviews.csv\"\n",
    "df = pd.read_csv(DATA_PATH).head(5000)  # Limit data for faster analysis\n",
    "texts = df['Text'].tolist()\n",
    "labels = df['Score'].map({\n",
    "    1: 0,  # Negative\n",
    "    2: 0,  # Negative\n",
    "    3: 1,  # Neutral\n",
    "    4: 2,  # Positive\n",
    "    5: 2   # Positive\n",
    "}).tolist()\n",
    "\n",
    "# Split data: 60% train, 20% validation, 20% test\n",
    "train_texts, temp_texts, train_labels, temp_labels = train_test_split(texts, labels, test_size=0.4, random_state=42)\n",
    "val_texts, test_texts, val_labels, test_labels = train_test_split(temp_texts, temp_labels, test_size=0.5, random_state=42)\n",
    "\n",
    "# Initialize VADER SentimentIntensityAnalyzer\n",
    "sia = SentimentIntensityAnalyzer()\n",
    "\n",
    "# Function to classify sentiment using VADER scores\n",
    "def classify_sentiment_vader(vader_scores):\n",
    "    if vader_scores['compound'] >= 0.05:\n",
    "        return 2  # Positive\n",
    "    elif vader_scores['compound'] <= -0.05:\n",
    "        return 0  # Negative\n",
    "    else:\n",
    "        return 1  # Neutral\n",
    "\n",
    "# Evaluate VADER on a dataset\n",
    "def evaluate_vader(texts, true_labels):\n",
    "    predicted_labels = []\n",
    "\n",
    "    for text in texts:\n",
    "        vader_scores = sia.polarity_scores(text)\n",
    "        sentiment = classify_sentiment_vader(vader_scores)\n",
    "        predicted_labels.append(sentiment)\n",
    "    \n",
    "    # Compute evaluation metrics\n",
    "    accuracy = accuracy_score(true_labels, predicted_labels)\n",
    "    f1 = f1_score(true_labels, predicted_labels, average='weighted')\n",
    "    precision = precision_score(true_labels, predicted_labels, average='weighted')\n",
    "    report = classification_report(true_labels, predicted_labels, target_names=['Negative', 'Neutral', 'Positive'])\n",
    "\n",
    "    return accuracy, f1, precision, report\n",
    "\n",
    "# Evaluate on train, validation, and test sets\n",
    "train_accuracy, train_f1, train_precision, train_report = evaluate_vader(train_texts, train_labels)\n",
    "val_accuracy, val_f1, val_precision, val_report = evaluate_vader(val_texts, val_labels)\n",
    "test_accuracy, test_f1, test_precision, test_report = evaluate_vader(test_texts, test_labels)\n",
    "\n",
    "# Display results\n",
    "print(\"Training Metrics:\")\n",
    "print(f\"Accuracy: {train_accuracy:.4f}\\nF1 Score: {train_f1:.4f}\\nPrecision: {train_precision:.4f}\\n\")\n",
    "print(\"Validation Metrics:\")\n",
    "print(f\"Accuracy: {val_accuracy:.4f}\\nF1 Score: {val_f1:.4f}\\nPrecision: {val_precision:.4f}\\n\")\n",
    "print(\"Test Metrics:\")\n",
    "print(f\"Accuracy: {test_accuracy:.4f}\\nF1 Score: {test_f1:.4f}\\nPrecision: {test_precision:.4f}\\n\")\n",
    "# print(\"\\nTest Classification Report:\\n\", test_report)\n"
   ]
  },
  {
   "cell_type": "code",
   "execution_count": null,
   "id": "209c2d19",
   "metadata": {},
   "outputs": [],
   "source": []
  }
 ],
 "metadata": {
  "kernelspec": {
   "display_name": "Python 3 (ipykernel)",
   "language": "python",
   "name": "python3"
  },
  "language_info": {
   "codemirror_mode": {
    "name": "ipython",
    "version": 3
   },
   "file_extension": ".py",
   "mimetype": "text/x-python",
   "name": "python",
   "nbconvert_exporter": "python",
   "pygments_lexer": "ipython3",
   "version": "3.11.5"
  }
 },
 "nbformat": 4,
 "nbformat_minor": 5
}
